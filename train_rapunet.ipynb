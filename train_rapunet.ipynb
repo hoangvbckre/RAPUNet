{
 "cells": [
  {
   "cell_type": "markdown",
   "id": "8c1d9ed0",
   "metadata": {},
   "source": [
    "# RAPUNet Training for Image Segmentation\n",
    "\n",
    "This notebook implements training and evaluation of RAPUNet for image segmentation."
   ]
  },
  {
   "cell_type": "code",
   "execution_count": null,
   "id": "57b5aca9",
   "metadata": {},
   "outputs": [],
   "source": [
    "import tensorflow as tf\n",
    "import albumentations as albu\n",
    "import numpy as np\n",
    "import gc\n",
    "import os\n",
    "from datetime import datetime\n",
    "from keras.callbacks import ModelCheckpoint, CSVLogger, EarlyStopping\n",
    "from sklearn.metrics import jaccard_score, precision_score, recall_score, accuracy_score, f1_score\n",
    "\n",
    "# Import custom modules\n",
    "from ModelArchitecture.DiceLoss import dice_metric_loss\n",
    "from ModelArchitecture import RAPUNet\n",
    "from CustomLayers import ImageLoader2D\n",
    "import tensorflow_addons as tfa"
   ]
  },
  {
   "cell_type": "code",
   "execution_count": null,
   "id": "cdbff3df",
   "metadata": {},
   "outputs": [],
   "source": [
    "# Configuration\n",
    "IMG_SIZE = 352\n",
    "BATCH_SIZE = 8\n",
    "EPOCHS = 100\n",
    "FILTERS = 17\n",
    "\n",
    "# Data paths\n",
    "TRAIN_PATH = \"train/\"\n",
    "VAL_PATH = \"val/\"\n",
    "TEST_PATH = \"test/\"\n",
    "\n",
    "# Learning rate schedule\n",
    "starter_learning_rate = 1e-4\n",
    "end_learning_rate = 1e-6\n",
    "decay_steps = 1000\n",
    "learning_rate_fn = tf.keras.optimizers.schedules.PolynomialDecay(\n",
    "    starter_learning_rate,\n",
    "    decay_steps,\n",
    "    end_learning_rate,\n",
    "    power=0.2\n",
    ")\n",
    "\n",
    "# Optimizer\n",
    "optimizer = tfa.optimizers.AdamW(\n",
    "    learning_rate=1e-4,\n",
    "    weight_decay=learning_rate_fn\n",
    ")"
   ]
  },
  {
   "cell_type": "code",
   "execution_count": null,
   "id": "bec05198",
   "metadata": {},
   "outputs": [],
   "source": [
    "# Load training and validation data\n",
    "print(\"Loading training data...\")\n",
    "x_train, y_train = ImageLoader2D.load_data(IMG_SIZE, IMG_SIZE, -1, 'jpg', TRAIN_PATH)\n",
    "\n",
    "print(\"Loading validation data...\")\n",
    "x_valid, y_valid = ImageLoader2D.load_data(IMG_SIZE, IMG_SIZE, -1, 'jpg', VAL_PATH)\n",
    "\n",
    "print(\"Training shapes:\", x_train.shape, y_train.shape)\n",
    "print(\"Validation shapes:\", x_valid.shape, y_valid.shape)"
   ]
  },
  {
   "cell_type": "code",
   "execution_count": null,
   "id": "8ee9819a",
   "metadata": {},
   "outputs": [],
   "source": [
    "# Data augmentation\n",
    "aug_train = albu.Compose([\n",
    "    albu.HorizontalFlip(),\n",
    "    albu.VerticalFlip(),\n",
    "    albu.ColorJitter(brightness=(0.6,1.6), contrast=0.2, saturation=0.1, hue=0.01, always_apply=True),\n",
    "    albu.Affine(scale=(0.5,1.5), translate_percent=(-0.125,0.125), rotate=(-180,180), shear=(-22.5,22), always_apply=True),\n",
    "])\n",
    "\n",
    "def augment_batch(images, masks):\n",
    "    images_aug = []\n",
    "    masks_aug = []\n",
    "    \n",
    "    for image, mask in zip(images, masks):\n",
    "        augmented = aug_train(image=image, mask=mask)\n",
    "        images_aug.append(augmented['image'])\n",
    "        masks_aug.append(augmented['mask'])\n",
    "        \n",
    "    return np.array(images_aug), np.array(masks_aug)"
   ]
  },
  {
   "cell_type": "code",
   "execution_count": null,
   "id": "10ce598f",
   "metadata": {},
   "outputs": [],
   "source": [
    "# Create and compile model\n",
    "model = RAPUNet.create_model(\n",
    "    img_height=IMG_SIZE,\n",
    "    img_width=IMG_SIZE, \n",
    "    input_chanels=3,\n",
    "    out_classes=1,\n",
    "    starting_filters=FILTERS\n",
    ")\n",
    "\n",
    "model.compile(\n",
    "    optimizer=optimizer,\n",
    "    loss=dice_metric_loss\n",
    ")\n",
    "\n",
    "model.summary()"
   ]
  },
  {
   "cell_type": "code",
   "execution_count": null,
   "id": "69bf70f4",
   "metadata": {},
   "outputs": [],
   "source": [
    "# Callbacks\n",
    "checkpoint = ModelCheckpoint(\n",
    "    'best_model.h5',\n",
    "    monitor='val_loss',\n",
    "    save_best_only=True,\n",
    "    mode='min'\n",
    ")\n",
    "\n",
    "early_stopping = EarlyStopping(\n",
    "    monitor='val_loss',\n",
    "    patience=20,\n",
    "    restore_best_weights=True\n",
    ")\n",
    "\n",
    "csv_logger = CSVLogger('training_log.csv')\n",
    "\n",
    "callbacks = [checkpoint, early_stopping, csv_logger]"
   ]
  },
  {
   "cell_type": "code",
   "execution_count": null,
   "id": "9c12c9a3",
   "metadata": {},
   "outputs": [],
   "source": [
    "# Training loop\n",
    "history = model.fit(\n",
    "    x=x_train,\n",
    "    y=y_train,\n",
    "    validation_data=(x_valid, y_valid),\n",
    "    epochs=EPOCHS,\n",
    "    batch_size=BATCH_SIZE,\n",
    "    callbacks=callbacks,\n",
    "    verbose=1\n",
    ")"
   ]
  },
  {
   "cell_type": "code",
   "execution_count": null,
   "id": "00844e6d",
   "metadata": {},
   "outputs": [],
   "source": [
    "# Load test data and generate predictions\n",
    "print(\"Loading test data...\")\n",
    "test_images = glob.glob(os.path.join(TEST_PATH, \"*.jpg\"))\n",
    "\n",
    "# Load and preprocess test images\n",
    "x_test = []\n",
    "for img_path in test_images:\n",
    "    img = cv2.imread(img_path)\n",
    "    img = cv2.resize(img, (IMG_SIZE, IMG_SIZE))\n",
    "    img = img / 255.0\n",
    "    x_test.append(img)\n",
    "\n",
    "x_test = np.array(x_test)\n",
    "\n",
    "# Generate predictions\n",
    "predictions = model.predict(x_test, batch_size=BATCH_SIZE)\n",
    "\n",
    "# Save predictions\n",
    "os.makedirs(\"predictions\", exist_ok=True)\n",
    "for i, pred in enumerate(predictions):\n",
    "    pred = (pred > 0.5).astype(np.uint8) * 255\n",
    "    cv2.imwrite(f\"predictions/pred_{i:04d}.png\", pred)"
   ]
  }
 ],
 "metadata": {
  "language_info": {
   "name": "python"
  }
 },
 "nbformat": 4,
 "nbformat_minor": 5
}
